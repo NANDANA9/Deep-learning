{
 "cells": [
  {
   "cell_type": "code",
   "execution_count": null,
   "id": "5ac74679",
   "metadata": {},
   "outputs": [],
   "source": []
  },
  {
   "cell_type": "markdown",
   "id": "cd37d48c",
   "metadata": {},
   "source": [
    "### Import Necessary Libraries"
   ]
  },
  {
   "cell_type": "code",
   "execution_count": 1,
   "id": "e1d257aa",
   "metadata": {},
   "outputs": [],
   "source": [
    "import numpy as np\n",
    "import pandas as pd\n",
    "import matplotlib.pyplot as plt\n",
    "import seaborn as sns\n",
    "from sklearn.model_selection import train_test_split\n",
    "import re\n",
    "\n",
    "from nltk.stem import WordNetLemmatizer\n",
    "from tensorflow.keras.preprocessing.text import Tokenizer\n",
    "from tensorflow.keras.preprocessing.sequence import pad_sequences\n",
    "from keras import Sequential\n",
    "from keras import layers\n",
    "from sklearn.metrics import confusion_matrix, classification_report, accuracy_score"
   ]
  },
  {
   "cell_type": "markdown",
   "id": "34499970",
   "metadata": {},
   "source": [
    "### Read the dataset"
   ]
  },
  {
   "cell_type": "code",
   "execution_count": 2,
   "id": "4688d1d8",
   "metadata": {},
   "outputs": [],
   "source": [
    "df=pd.read_csv(r'C:\\Users\\Lenovo\\Downloads\\Deep learning\\capstone project\\movie\\movie_data (1).csv')"
   ]
  },
  {
   "cell_type": "code",
   "execution_count": 3,
   "id": "545ba003",
   "metadata": {},
   "outputs": [
    {
     "data": {
      "text/html": [
       "<div>\n",
       "<style scoped>\n",
       "    .dataframe tbody tr th:only-of-type {\n",
       "        vertical-align: middle;\n",
       "    }\n",
       "\n",
       "    .dataframe tbody tr th {\n",
       "        vertical-align: top;\n",
       "    }\n",
       "\n",
       "    .dataframe thead th {\n",
       "        text-align: right;\n",
       "    }\n",
       "</style>\n",
       "<table border=\"1\" class=\"dataframe\">\n",
       "  <thead>\n",
       "    <tr style=\"text-align: right;\">\n",
       "      <th></th>\n",
       "      <th>review</th>\n",
       "      <th>sentiment</th>\n",
       "    </tr>\n",
       "  </thead>\n",
       "  <tbody>\n",
       "    <tr>\n",
       "      <th>0</th>\n",
       "      <td>This movie is just crap. Even though the direc...</td>\n",
       "      <td>0</td>\n",
       "    </tr>\n",
       "    <tr>\n",
       "      <th>1</th>\n",
       "      <td>Another detailed work on the subject by Dr Dwi...</td>\n",
       "      <td>1</td>\n",
       "    </tr>\n",
       "    <tr>\n",
       "      <th>2</th>\n",
       "      <td>THE CAT O'NINE TAILS (Il Gatto a Nove Code) &lt;b...</td>\n",
       "      <td>0</td>\n",
       "    </tr>\n",
       "    <tr>\n",
       "      <th>3</th>\n",
       "      <td>Like with any movie genre, there are good gang...</td>\n",
       "      <td>0</td>\n",
       "    </tr>\n",
       "    <tr>\n",
       "      <th>4</th>\n",
       "      <td>I watched it with my mom and we were like...&lt;b...</td>\n",
       "      <td>0</td>\n",
       "    </tr>\n",
       "  </tbody>\n",
       "</table>\n",
       "</div>"
      ],
      "text/plain": [
       "                                              review  sentiment\n",
       "0  This movie is just crap. Even though the direc...          0\n",
       "1  Another detailed work on the subject by Dr Dwi...          1\n",
       "2  THE CAT O'NINE TAILS (Il Gatto a Nove Code) <b...          0\n",
       "3  Like with any movie genre, there are good gang...          0\n",
       "4  I watched it with my mom and we were like...<b...          0"
      ]
     },
     "execution_count": 3,
     "metadata": {},
     "output_type": "execute_result"
    }
   ],
   "source": [
    "df.head()"
   ]
  },
  {
   "cell_type": "markdown",
   "id": "d3df4c78",
   "metadata": {},
   "source": [
    "### Save only a portion of the dataset"
   ]
  },
  {
   "cell_type": "code",
   "execution_count": 4,
   "id": "bc751e88",
   "metadata": {},
   "outputs": [],
   "source": [
    "df=df[0:1000]"
   ]
  },
  {
   "cell_type": "code",
   "execution_count": 5,
   "id": "1668be7f",
   "metadata": {},
   "outputs": [
    {
     "data": {
      "text/html": [
       "<div>\n",
       "<style scoped>\n",
       "    .dataframe tbody tr th:only-of-type {\n",
       "        vertical-align: middle;\n",
       "    }\n",
       "\n",
       "    .dataframe tbody tr th {\n",
       "        vertical-align: top;\n",
       "    }\n",
       "\n",
       "    .dataframe thead th {\n",
       "        text-align: right;\n",
       "    }\n",
       "</style>\n",
       "<table border=\"1\" class=\"dataframe\">\n",
       "  <thead>\n",
       "    <tr style=\"text-align: right;\">\n",
       "      <th></th>\n",
       "      <th>review</th>\n",
       "      <th>sentiment</th>\n",
       "    </tr>\n",
       "  </thead>\n",
       "  <tbody>\n",
       "    <tr>\n",
       "      <th>0</th>\n",
       "      <td>This movie is just crap. Even though the direc...</td>\n",
       "      <td>0</td>\n",
       "    </tr>\n",
       "    <tr>\n",
       "      <th>1</th>\n",
       "      <td>Another detailed work on the subject by Dr Dwi...</td>\n",
       "      <td>1</td>\n",
       "    </tr>\n",
       "    <tr>\n",
       "      <th>2</th>\n",
       "      <td>THE CAT O'NINE TAILS (Il Gatto a Nove Code) &lt;b...</td>\n",
       "      <td>0</td>\n",
       "    </tr>\n",
       "    <tr>\n",
       "      <th>3</th>\n",
       "      <td>Like with any movie genre, there are good gang...</td>\n",
       "      <td>0</td>\n",
       "    </tr>\n",
       "    <tr>\n",
       "      <th>4</th>\n",
       "      <td>I watched it with my mom and we were like...&lt;b...</td>\n",
       "      <td>0</td>\n",
       "    </tr>\n",
       "  </tbody>\n",
       "</table>\n",
       "</div>"
      ],
      "text/plain": [
       "                                              review  sentiment\n",
       "0  This movie is just crap. Even though the direc...          0\n",
       "1  Another detailed work on the subject by Dr Dwi...          1\n",
       "2  THE CAT O'NINE TAILS (Il Gatto a Nove Code) <b...          0\n",
       "3  Like with any movie genre, there are good gang...          0\n",
       "4  I watched it with my mom and we were like...<b...          0"
      ]
     },
     "execution_count": 5,
     "metadata": {},
     "output_type": "execute_result"
    }
   ],
   "source": [
    "df.head()"
   ]
  },
  {
   "cell_type": "markdown",
   "id": "c8f9e71b",
   "metadata": {},
   "source": [
    "### Check Info"
   ]
  },
  {
   "cell_type": "code",
   "execution_count": 6,
   "id": "93375a50",
   "metadata": {},
   "outputs": [
    {
     "name": "stdout",
     "output_type": "stream",
     "text": [
      "<class 'pandas.core.frame.DataFrame'>\n",
      "RangeIndex: 1000 entries, 0 to 999\n",
      "Data columns (total 2 columns):\n",
      " #   Column     Non-Null Count  Dtype \n",
      "---  ------     --------------  ----- \n",
      " 0   review     1000 non-null   object\n",
      " 1   sentiment  1000 non-null   int64 \n",
      "dtypes: int64(1), object(1)\n",
      "memory usage: 15.8+ KB\n"
     ]
    }
   ],
   "source": [
    "df.info()"
   ]
  },
  {
   "cell_type": "markdown",
   "id": "f0266be4",
   "metadata": {},
   "source": [
    "### View basic statistical information about the dataset"
   ]
  },
  {
   "cell_type": "code",
   "execution_count": 7,
   "id": "1dd5fdb1",
   "metadata": {},
   "outputs": [
    {
     "data": {
      "text/html": [
       "<div>\n",
       "<style scoped>\n",
       "    .dataframe tbody tr th:only-of-type {\n",
       "        vertical-align: middle;\n",
       "    }\n",
       "\n",
       "    .dataframe tbody tr th {\n",
       "        vertical-align: top;\n",
       "    }\n",
       "\n",
       "    .dataframe thead th {\n",
       "        text-align: right;\n",
       "    }\n",
       "</style>\n",
       "<table border=\"1\" class=\"dataframe\">\n",
       "  <thead>\n",
       "    <tr style=\"text-align: right;\">\n",
       "      <th></th>\n",
       "      <th>sentiment</th>\n",
       "    </tr>\n",
       "  </thead>\n",
       "  <tbody>\n",
       "    <tr>\n",
       "      <th>count</th>\n",
       "      <td>1000.000000</td>\n",
       "    </tr>\n",
       "    <tr>\n",
       "      <th>mean</th>\n",
       "      <td>0.501000</td>\n",
       "    </tr>\n",
       "    <tr>\n",
       "      <th>std</th>\n",
       "      <td>0.500249</td>\n",
       "    </tr>\n",
       "    <tr>\n",
       "      <th>min</th>\n",
       "      <td>0.000000</td>\n",
       "    </tr>\n",
       "    <tr>\n",
       "      <th>25%</th>\n",
       "      <td>0.000000</td>\n",
       "    </tr>\n",
       "    <tr>\n",
       "      <th>50%</th>\n",
       "      <td>1.000000</td>\n",
       "    </tr>\n",
       "    <tr>\n",
       "      <th>75%</th>\n",
       "      <td>1.000000</td>\n",
       "    </tr>\n",
       "    <tr>\n",
       "      <th>max</th>\n",
       "      <td>1.000000</td>\n",
       "    </tr>\n",
       "  </tbody>\n",
       "</table>\n",
       "</div>"
      ],
      "text/plain": [
       "         sentiment\n",
       "count  1000.000000\n",
       "mean      0.501000\n",
       "std       0.500249\n",
       "min       0.000000\n",
       "25%       0.000000\n",
       "50%       1.000000\n",
       "75%       1.000000\n",
       "max       1.000000"
      ]
     },
     "execution_count": 7,
     "metadata": {},
     "output_type": "execute_result"
    }
   ],
   "source": [
    "df.describe()"
   ]
  },
  {
   "cell_type": "markdown",
   "id": "fece4e65",
   "metadata": {},
   "source": [
    "### Check for missing values"
   ]
  },
  {
   "cell_type": "code",
   "execution_count": 8,
   "id": "35e28d38",
   "metadata": {},
   "outputs": [
    {
     "data": {
      "text/plain": [
       "review       0\n",
       "sentiment    0\n",
       "dtype: int64"
      ]
     },
     "execution_count": 8,
     "metadata": {},
     "output_type": "execute_result"
    }
   ],
   "source": [
    "df.isna().sum()"
   ]
  },
  {
   "cell_type": "markdown",
   "id": "51c73a14",
   "metadata": {},
   "source": [
    "### Check for duplicates"
   ]
  },
  {
   "cell_type": "code",
   "execution_count": 9,
   "id": "95a55803",
   "metadata": {},
   "outputs": [
    {
     "data": {
      "text/plain": [
       "0"
      ]
     },
     "execution_count": 9,
     "metadata": {},
     "output_type": "execute_result"
    }
   ],
   "source": [
    "df.duplicated().sum()"
   ]
  },
  {
   "cell_type": "markdown",
   "id": "989da562",
   "metadata": {},
   "source": [
    "### Plot a countplot of the Class Index"
   ]
  },
  {
   "cell_type": "code",
   "execution_count": 10,
   "id": "33dfcc4c",
   "metadata": {},
   "outputs": [
    {
     "data": {
      "text/plain": [
       "<Axes: xlabel='count', ylabel='sentiment'>"
      ]
     },
     "execution_count": 10,
     "metadata": {},
     "output_type": "execute_result"
    },
    {
     "data": {
      "image/png": "[encoded data removed]",
      "text/plain": [
       "<Figure size 640x480 with 1 Axes>"
      ]
     },
     "metadata": {},
     "output_type": "display_data"
    }
   ],
   "source": [
    "sns.countplot(y=df['sentiment'])"
   ]
  },
  {
   "cell_type": "markdown",
   "id": "238716f8",
   "metadata": {},
   "source": [
    "### Create a funciton to preprocess the text"
   ]
  },
  {
   "cell_type": "code",
   "execution_count": 11,
   "id": "2a914431",
   "metadata": {},
   "outputs": [],
   "source": [
    "def preprocess(sentence):\n",
    "    text = re.sub(r\"[^a-zA-Z0-9]\",\" \",sentence).split()\n",
    "    \n",
    "    words = [x.lower() for x in text ]\n",
    "    \n",
    "    lemma = WordNetLemmatizer()\n",
    "    word = [lemma.lemmatize(word,'v') for word in words ]\n",
    "    word = ' '.join(word)\n",
    "    return word"
   ]
  },
  {
   "cell_type": "markdown",
   "id": "e5482c35",
   "metadata": {},
   "source": [
    "### Apply the preprocess function to the description"
   ]
  },
  {
   "cell_type": "code",
   "execution_count": 12,
   "id": "757bd073",
   "metadata": {},
   "outputs": [],
   "source": [
    "df['review']=df['review'].apply(preprocess)"
   ]
  },
  {
   "cell_type": "code",
   "execution_count": 13,
   "id": "bee0e846",
   "metadata": {},
   "outputs": [
    {
     "name": "stdout",
     "output_type": "stream",
     "text": [
      "this movie be just crap even though the directors claim to be part of that oi culture it s still a very very bad directorial debut the topic itself be very interest and i accept the bad act due to the fact that they be all amateurs and never act before but the worst thing about this film be the dialogs and very unexperienced and naive direct there s no time at all in that movie i felt like the directors be so exit to do that movie it s their first feature that they actually never really ask themselves what story they wanna tell i meet ben one of the directors on several occasion and he s a nice and thoughtful guy but that doesn t make him a director i think that american history x be full of clich s but somehow manage to transport a story oi warn be full of clich s doesn t tell anything new or provocative and that s the sad thing about this movie it s far from any oi reality br br if you wanna see weird but great german film watch the movies of michael haneke christoph schlingensief oskar roehler hans weingartner or oliver hirschbiegel br br benny s video funny game die unber hrbare mein letzter film das experiment das weisse rauschen muxm uschenstill br br out of ten because of the topic and the photography -- 0\n",
      "\n",
      "another detail work on the subject by dr dwivedi take us back in time to pre partioned panjab dr dwivedi choose a difficult subject for his movie debut he have work on all meticulous detail to bring the story to life the treatment of the subject be very delicate br br even though we have not be to the region during that time the set and costume look real unlike most movies make on partition this one focus not on the gory detail of violence to attract audience but on its after effect the character come to life priyanshu chatterjee have give an impressive performance manoj bajpai have act his heart out show the plight of a guilt ride man the rest of the cast have do a good job too -- 1\n",
      "\n",
      "the cat o nine tail il gatto a nove code br br aspect ratio 2 35 1 cromoscope br br sound format mono br br 35mm and 70mm release print br br a blind ex journalist karl malden overhear a blackmail plot outside a genetics research laboratory and later team up with a fellow reporter jam franciscus to investigate a series of murder at the lab unwittingly place their own love ones at the mercy of a psychopathic killer br br rush into production follow the unexpected worldwide success of his directorial debut the bird with the crystal plumage 1969 dario argento conceive the cat o nine tail as a giallo thriller in much the same vein as its forerunner toplining celebrate hollywood actor karl malden fresh from his appearance in patton 1969 and rise star franciscus the valley of gwangi sadly the result film which the ads claim be nine time more suspenseful than bird be a disappoint follow up impeccably photograph and stylishly execute but too plod and aimless for general consumption br br malden and franciscus be eminently watchable in sympathetic roles and cinematographer enrico menczer the dead be alive use the wide cromoscope frame to convey the hi tech world in which argento s dark hearted scenario unfold but the subplot involve euro starlet catherine spaak the libertine as franciscus romantic interest amount to little more than unnecessary pad highlight include an unforgettable encounter with the black gloved assassin in a crowd railway station edit with sleek assurance by cult movie stalwart franco fraticelli and a nocturnal episode in which malden and franciscus seek an important clue inside a moulder tomb and fall prey to the killer s devious machinations but despite these flash of brilliance the film ramble aimlessly from one scene to the next simmer gently without ever really come to the boil it s no surprise that cat fail to emulate the runaway success of bird when release in 1971 br br english version -- 0\n",
      "\n",
      "like with any movie genre there be good gangster movies and there be bad gangster movies if you ask me to name a good gangster movie i d have dozens to choose from if you ask me to name a bad gangster movie probably the first one to pop up in my mind be one that still have me in a sort of depression of disappointment about a week since i saw the film for the first and i promise you the last time that film be the general unrelated to the 1926 silent film of the same name this be a very dry very slow gangster epic that raise question not about the story it s more than easy to follow but about why the filmmakers choose to make this rather flimsy endeavor br br like goodfellas 1990 and american gangster 2007 two superior mob movies the general be base on real people and true events the film revolve around an irish criminal name martin cahill brendan gleeson who start his long chain of crimes steal food as a teenager and then move up to rob museums and house as an adult meanwhile the police lead by an inspector name kenny jon voight try desperately and vigorously to prove just one of his crimes and convict or kill him br br perhaps because it s a film in the same category as the marvelous goodfellas 1990 and the first two godfather film i be expect too much from the general but that may be go too easy on it this would have be a bad film have i not see the aforementioned masterpieces before be swamp by boredom in this oater and its far too stretch run time of scream bad scenes let s start knock the film by just look at the style in which it be present for some reason director john boorman and cinematographer seamus deasy select to film this movie in black and white while its style and presentation be clearly the elements that belong to a full fledge color film now i have nothing against b w picture not even ones make in modern day time schindler s list 1993 be more than ninety percent film in black and white and it s a masterpiece the general make just five years after schindler s list be not the cinematography be also far too blow out with high light key that seem very distract and give the movie a very video game like quality that i find simply annoy the filmmakers be obviously go for a realist s documentary like style like schindler s list do but they fail by make it seem too much like a documentary and at the same time too much like a classic style motion picture performances in the film range from passable to poor brendan gleeson and jon voight give decent enthusiasm for their roles but it seem to me at time that even they be get kind of run down by the awful screenplay from which they be quote the sound design be also very primitive probably in an attempt to give it a 40s crime noir appeal but that also fail because again it s make too much like a contemporary picture and seem vastly out of place br br but the worst thing that occur be that there s not one not one character in the film that i felt any emotions or opinions for in fact for every moment of every scene the only think go through my head be okay so what moments that in a better film might come across as shock or appal be just dull and time consume here i do not sympathize or hate the brendan gleeson character because the way the cahill character be write be simply flat and dull gleeson just play the common criminal and do not strike out with the impact the real martin cahill obviously do if a character be kill off as they always be in gangster film we feel nothing no remorse no relief no surprise nothing we just say so what and that s all i do during the entire run time of this very flimsy very poorly make crime film -- 0\n",
      "\n",
      "i watch it with my mom and we be like br br what the hell we didn t get it at all i may have this wrong but a chair have something to do with the death of this woman s father that movie be terrible this be not a movie for those who love a good suspense movie bad suspense movie shake cane at movie i m never see it again and i m a big fan of lifetime movies too they kinda need to quit try to make movies outta book it s drive me crazy br br and whit be butt ugly and yet she love him more than hugh who be a tiny bite nicer look br br my rat 1 10 -- 0\n",
      "\n"
     ]
    }
   ],
   "source": [
    "for i in range(5):\n",
    "    print(df['review'][i],'--',df['sentiment'][i])\n",
    "    print()"
   ]
  },
  {
   "cell_type": "markdown",
   "id": "7f5cd81f",
   "metadata": {},
   "source": [
    "### Split Input & Target Variables"
   ]
  },
  {
   "cell_type": "code",
   "execution_count": 14,
   "id": "36b06902",
   "metadata": {},
   "outputs": [],
   "source": [
    "X=df['review']\n",
    "y=df['sentiment']"
   ]
  },
  {
   "cell_type": "markdown",
   "id": "ff702320",
   "metadata": {},
   "source": [
    "### Split the dataset into Training & Testing Set"
   ]
  },
  {
   "cell_type": "code",
   "execution_count": 15,
   "id": "5bb963f3",
   "metadata": {},
   "outputs": [],
   "source": [
    "X_train,X_test,y_train,y_test=train_test_split(X,y,test_size=0.2,random_state=100)"
   ]
  },
  {
   "cell_type": "markdown",
   "id": "4899cdd8",
   "metadata": {},
   "source": [
    "### Create a keras Tokenizer object"
   ]
  },
  {
   "cell_type": "code",
   "execution_count": 16,
   "id": "148b6602",
   "metadata": {},
   "outputs": [],
   "source": [
    "tokenizer = Tokenizer(num_words=5000)"
   ]
  },
  {
   "cell_type": "markdown",
   "id": "0106d65f",
   "metadata": {},
   "source": [
    "### fit on text for our X"
   ]
  },
  {
   "cell_type": "code",
   "execution_count": 17,
   "id": "e4b0e299",
   "metadata": {},
   "outputs": [],
   "source": [
    "tokenizer.fit_on_texts(X)"
   ]
  },
  {
   "cell_type": "code",
   "execution_count": 18,
   "id": "ea63d23d",
   "metadata": {},
   "outputs": [],
   "source": [
    "vocab_size = len(tokenizer.word_index) + 1"
   ]
  },
  {
   "cell_type": "markdown",
   "id": "af876411",
   "metadata": {},
   "source": [
    "### Create a function to convert text to numerical representation and add padding"
   ]
  },
  {
   "cell_type": "code",
   "execution_count": 19,
   "id": "afd5a26e",
   "metadata": {},
   "outputs": [],
   "source": [
    "def text(txt):\n",
    "    encode = tokenizer.texts_to_sequences(txt)\n",
    "    padded_sequence = pad_sequences(encode, maxlen=128)    \n",
    "       \n",
    "    return padded_sequence"
   ]
  },
  {
   "cell_type": "markdown",
   "id": "24006817",
   "metadata": {},
   "source": [
    "### Apply the function to our X_train & X_test"
   ]
  },
  {
   "cell_type": "code",
   "execution_count": 20,
   "id": "6a95adf7",
   "metadata": {},
   "outputs": [],
   "source": [
    "X_train=text(X_train)\n",
    "X_test=text(X_test)"
   ]
  },
  {
   "cell_type": "markdown",
   "id": "191d1a9f",
   "metadata": {},
   "source": [
    "### Create keras Sequential model with GRU Layers"
   ]
  },
  {
   "cell_type": "code",
   "execution_count": 23,
   "id": "5c6e2eda",
   "metadata": {},
   "outputs": [],
   "source": [
    "model=Sequential()"
   ]
  },
  {
   "cell_type": "code",
   "execution_count": 24,
   "id": "d31f505c",
   "metadata": {},
   "outputs": [],
   "source": [
    "model.add(layers.Embedding(vocab_size, 128))\n",
    "\n",
    "model.add(layers.GRU(128,  return_sequences=True))\n",
    "model.add(layers.Dropout(0.2))\n",
    "\n",
    "model.add(layers.GRU(128))\n",
    "model.add(layers.Dropout(0.2))\n",
    "model.add(layers.Dense(64, activation = 'relu'))\n",
    "model.add(layers.Dropout(0.2))\n",
    "\n",
    "model.add(layers.Dense(1, activation='sigmoid'))"
   ]
  },
  {
   "cell_type": "code",
   "execution_count": 25,
   "id": "5dfb1007",
   "metadata": {},
   "outputs": [
    {
     "name": "stdout",
     "output_type": "stream",
     "text": [
      "Model: \"sequential\"\n",
      "_________________________________________________________________\n",
      " Layer (type)                Output Shape              Param #   \n",
      "=================================================================\n",
      " embedding (Embedding)       (None, None, 128)         1901824   \n",
      "                                                                 \n",
      " gru (GRU)                   (None, None, 128)         99072     \n",
      "                                                                 \n",
      " dropout (Dropout)           (None, None, 128)         0         \n",
      "                                                                 \n",
      " gru_1 (GRU)                 (None, 128)               99072     \n",
      "                                                                 \n",
      " dropout_1 (Dropout)         (None, 128)               0         \n",
      "                                                                 \n",
      " dense (Dense)               (None, 64)                8256      \n",
      "                                                                 \n",
      " dropout_2 (Dropout)         (None, 64)                0         \n",
      "                                                                 \n",
      " dense_1 (Dense)             (None, 1)                 65        \n",
      "                                                                 \n",
      "=================================================================\n",
      "Total params: 2108289 (8.04 MB)\n",
      "Trainable params: 2108289 (8.04 MB)\n",
      "Non-trainable params: 0 (0.00 Byte)\n",
      "_________________________________________________________________\n"
     ]
    }
   ],
   "source": [
    "model.summary()"
   ]
  },
  {
   "cell_type": "markdown",
   "id": "c4597e5a",
   "metadata": {},
   "source": [
    "### Compile the model"
   ]
  },
  {
   "cell_type": "code",
   "execution_count": 26,
   "id": "c6cce8d0",
   "metadata": {},
   "outputs": [],
   "source": [
    "model.compile(loss='binary_crossentropy',optimizer='adam',metrics=['accuracy'])"
   ]
  },
  {
   "cell_type": "markdown",
   "id": "afb8b6a5",
   "metadata": {},
   "source": [
    "### Train the model with our Training Set"
   ]
  },
  {
   "cell_type": "code",
   "execution_count": 27,
   "id": "855364a0",
   "metadata": {
    "scrolled": true
   },
   "outputs": [
    {
     "name": "stdout",
     "output_type": "stream",
     "text": [
      "Epoch 1/10\n",
      "24/24 [==============================] - 11s 266ms/step - loss: 0.6930 - accuracy: 0.4987 - val_loss: 0.6916 - val_accuracy: 0.5000\n",
      "Epoch 2/10\n",
      "24/24 [==============================] - 5s 228ms/step - loss: 0.6191 - accuracy: 0.6921 - val_loss: 0.6793 - val_accuracy: 0.6500\n",
      "Epoch 3/10\n",
      "24/24 [==============================] - 5s 225ms/step - loss: 0.2773 - accuracy: 0.8842 - val_loss: 0.8818 - val_accuracy: 0.5750\n",
      "Epoch 4/10\n",
      "24/24 [==============================] - 5s 226ms/step - loss: 0.1026 - accuracy: 0.9671 - val_loss: 1.3872 - val_accuracy: 0.6000\n",
      "Epoch 5/10\n",
      "24/24 [==============================] - 5s 223ms/step - loss: 0.0267 - accuracy: 0.9961 - val_loss: 1.4246 - val_accuracy: 0.6250\n",
      "Epoch 6/10\n",
      "24/24 [==============================] - 5s 222ms/step - loss: 0.0049 - accuracy: 1.0000 - val_loss: 2.2653 - val_accuracy: 0.6000\n",
      "Epoch 7/10\n",
      "24/24 [==============================] - 5s 228ms/step - loss: 0.0030 - accuracy: 1.0000 - val_loss: 2.7435 - val_accuracy: 0.5750\n",
      "Epoch 8/10\n",
      "24/24 [==============================] - 6s 242ms/step - loss: 0.0087 - accuracy: 0.9974 - val_loss: 2.3873 - val_accuracy: 0.6250\n",
      "Epoch 9/10\n",
      "24/24 [==============================] - 5s 229ms/step - loss: 0.0011 - accuracy: 1.0000 - val_loss: 2.3755 - val_accuracy: 0.6250\n",
      "Epoch 10/10\n",
      "24/24 [==============================] - 6s 234ms/step - loss: 4.2417e-04 - accuracy: 1.0000 - val_loss: 2.7209 - val_accuracy: 0.6500\n"
     ]
    },
    {
     "data": {
      "text/plain": [
       "<keras.src.callbacks.History at 0x1cf7eac18a0>"
      ]
     },
     "execution_count": 27,
     "metadata": {},
     "output_type": "execute_result"
    }
   ],
   "source": [
    "model.fit(X_train,y_train,epochs=10,validation_split=0.05)"
   ]
  },
  {
   "cell_type": "markdown",
   "id": "d70c5388",
   "metadata": {},
   "source": [
    "### Make predictions with Test set"
   ]
  },
  {
   "cell_type": "code",
   "execution_count": 28,
   "id": "402a9f17",
   "metadata": {},
   "outputs": [
    {
     "name": "stdout",
     "output_type": "stream",
     "text": [
      "7/7 [==============================] - 1s 59ms/step\n"
     ]
    }
   ],
   "source": [
    "y_pred=model.predict(X_test)"
   ]
  },
  {
   "cell_type": "code",
   "execution_count": 30,
   "id": "75decae9",
   "metadata": {},
   "outputs": [],
   "source": [
    "y_pred=[np.argmax(i) for i in y_pred]"
   ]
  },
  {
   "cell_type": "code",
   "execution_count": null,
   "id": "108c7e00",
   "metadata": {},
   "outputs": [],
   "source": []
  },
  {
   "cell_type": "markdown",
   "id": "30229689",
   "metadata": {},
   "source": [
    "### Check accuracy score"
   ]
  },
  {
   "cell_type": "code",
   "execution_count": 37,
   "id": "6f9323a6",
   "metadata": {},
   "outputs": [
    {
     "data": {
      "text/plain": [
       "0.48"
      ]
     },
     "execution_count": 37,
     "metadata": {},
     "output_type": "execute_result"
    }
   ],
   "source": [
    "accuracy_score(y_test,y_pred)"
   ]
  },
  {
   "cell_type": "markdown",
   "id": "5a39c920",
   "metadata": {},
   "source": [
    "### Confusion matrix"
   ]
  },
  {
   "cell_type": "code",
   "execution_count": 33,
   "id": "ceb3bd58",
   "metadata": {
    "scrolled": true
   },
   "outputs": [
    {
     "data": {
      "text/plain": [
       "<Axes: >"
      ]
     },
     "execution_count": 33,
     "metadata": {},
     "output_type": "execute_result"
    },
    {
     "data": {
      "image/png": "[encoded data removed]",
      "text/plain": [
       "<Figure size 640x480 with 2 Axes>"
      ]
     },
     "metadata": {},
     "output_type": "display_data"
    }
   ],
   "source": [
    "sns.heatmap(confusion_matrix(y_test,y_pred),annot=True,fmt='d')"
   ]
  },
  {
   "cell_type": "markdown",
   "id": "4e526365",
   "metadata": {},
   "source": [
    "### Classification Report"
   ]
  },
  {
   "cell_type": "code",
   "execution_count": 34,
   "id": "d16a8e33",
   "metadata": {},
   "outputs": [
    {
     "name": "stdout",
     "output_type": "stream",
     "text": [
      "              precision    recall  f1-score   support\n",
      "\n",
      "           0       0.48      1.00      0.65        96\n",
      "           1       0.00      0.00      0.00       104\n",
      "\n",
      "    accuracy                           0.48       200\n",
      "   macro avg       0.24      0.50      0.32       200\n",
      "weighted avg       0.23      0.48      0.31       200\n",
      "\n"
     ]
    },
    {
     "name": "stderr",
     "output_type": "stream",
     "text": [
      "C:\\Users\\Lenovo\\anaconda3\\lib\\site-packages\\sklearn\\metrics\\_classification.py:1344: UndefinedMetricWarning: Precision and F-score are ill-defined and being set to 0.0 in labels with no predicted samples. Use `zero_division` parameter to control this behavior.\n",
      "  _warn_prf(average, modifier, msg_start, len(result))\n",
      "C:\\Users\\Lenovo\\anaconda3\\lib\\site-packages\\sklearn\\metrics\\_classification.py:1344: UndefinedMetricWarning: Precision and F-score are ill-defined and being set to 0.0 in labels with no predicted samples. Use `zero_division` parameter to control this behavior.\n",
      "  _warn_prf(average, modifier, msg_start, len(result))\n",
      "C:\\Users\\Lenovo\\anaconda3\\lib\\site-packages\\sklearn\\metrics\\_classification.py:1344: UndefinedMetricWarning: Precision and F-score are ill-defined and being set to 0.0 in labels with no predicted samples. Use `zero_division` parameter to control this behavior.\n",
      "  _warn_prf(average, modifier, msg_start, len(result))\n"
     ]
    }
   ],
   "source": [
    "print(classification_report(y_test,y_pred))"
   ]
  },
  {
   "cell_type": "markdown",
   "id": "868d86dc",
   "metadata": {},
   "source": [
    "***"
   ]
  }
 ],
 "metadata": {
  "kernelspec": {
   "display_name": "Python 3 (ipykernel)",
   "language": "python",
   "name": "python3"
  },
  "language_info": {
   "codemirror_mode": {
    "name": "ipython",
    "version": 3
   },
   "file_extension": ".py",
   "mimetype": "text/x-python",
   "name": "python",
   "nbconvert_exporter": "python",
   "pygments_lexer": "ipython3",
   "version": "3.10.9"
  }
 },
 "nbformat": 4,
 "nbformat_minor": 5
}
