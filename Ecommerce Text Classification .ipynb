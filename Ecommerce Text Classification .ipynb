{
 "cells": [
  {
   "cell_type": "markdown",
   "id": "2893bacb",
   "metadata": {},
   "source": [
    "### Ecommerce Text Classification"
   ]
  },
  {
   "cell_type": "markdown",
   "id": "cab905c1",
   "metadata": {},
   "source": [
    "***"
   ]
  },
  {
   "cell_type": "markdown",
   "id": "cea8d0e2",
   "metadata": {},
   "source": [
    "This is the classification based E-commerce text dataset for 4 categories - \"Electronics\", \"Household\", \"Books\" and \"Clothing & Accessories\", which almost cover 80% of any E-commerce website.\n",
    "\n",
    "The dataset is in \".csv\" format with two columns - the first column is the class name and the second one is the datapoint of that class. The data point is the product and description from the e-commerce website."
   ]
  },
  {
   "cell_type": "code",
   "execution_count": 1,
   "id": "b6b2ea6c",
   "metadata": {},
   "outputs": [],
   "source": [
    "import numpy as np\n",
    "import pandas as pd\n",
    "import matplotlib.pyplot as plt\n",
    "import seaborn as sns\n",
    "import re\n",
    "from nltk.stem import WordNetLemmatizer\n",
    "from tensorflow.keras.preprocessing.text import Tokenizer\n",
    "from tensorflow.keras.preprocessing.sequence import pad_sequences\n",
    "from sklearn.model_selection import train_test_split\n",
    "from tensorflow.keras import Sequential, layers\n",
    "from sklearn.metrics import accuracy_score, confusion_matrix, classification_report"
   ]
  },
  {
   "cell_type": "markdown",
   "id": "13947023",
   "metadata": {},
   "source": [
    "### Read 'ecommerceDataset.csv'"
   ]
  },
  {
   "cell_type": "code",
   "execution_count": 2,
   "id": "0be115c8",
   "metadata": {},
   "outputs": [],
   "source": [
    "df = pd.read_csv('ecommerceDataset.csv', header = None)"
   ]
  },
  {
   "cell_type": "code",
   "execution_count": 3,
   "id": "95a0aed2",
   "metadata": {},
   "outputs": [],
   "source": [
    "df = df.sample(frac = 1)"
   ]
  },
  {
   "cell_type": "code",
   "execution_count": 4,
   "id": "bb7db9c8",
   "metadata": {},
   "outputs": [],
   "source": [
    "df.reset_index(drop = True, inplace = True)"
   ]
  },
  {
   "cell_type": "code",
   "execution_count": 5,
   "id": "876cadfd",
   "metadata": {},
   "outputs": [],
   "source": [
    "df = df[0:1000]"
   ]
  },
  {
   "cell_type": "code",
   "execution_count": 6,
   "id": "be3060d2",
   "metadata": {},
   "outputs": [
    {
     "data": {
      "text/html": [
       "<div>\n",
       "<style scoped>\n",
       "    .dataframe tbody tr th:only-of-type {\n",
       "        vertical-align: middle;\n",
       "    }\n",
       "\n",
       "    .dataframe tbody tr th {\n",
       "        vertical-align: top;\n",
       "    }\n",
       "\n",
       "    .dataframe thead th {\n",
       "        text-align: right;\n",
       "    }\n",
       "</style>\n",
       "<table border=\"1\" class=\"dataframe\">\n",
       "  <thead>\n",
       "    <tr style=\"text-align: right;\">\n",
       "      <th></th>\n",
       "      <th>0</th>\n",
       "      <th>1</th>\n",
       "    </tr>\n",
       "  </thead>\n",
       "  <tbody>\n",
       "    <tr>\n",
       "      <th>0</th>\n",
       "      <td>Household</td>\n",
       "      <td>MBTC Cadbury Cafeteria/Bar Stool in Black Set ...</td>\n",
       "    </tr>\n",
       "    <tr>\n",
       "      <th>1</th>\n",
       "      <td>Electronics</td>\n",
       "      <td>Pes Camouflage Protective Frame Mount Housing ...</td>\n",
       "    </tr>\n",
       "    <tr>\n",
       "      <th>2</th>\n",
       "      <td>Household</td>\n",
       "      <td>WICKER HUB Wicker Outdoor Patio Sofa Set (Whit...</td>\n",
       "    </tr>\n",
       "    <tr>\n",
       "      <th>3</th>\n",
       "      <td>Books</td>\n",
       "      <td>FOK Set Of 5Pc Good Quality Plastic Printed Sh...</td>\n",
       "    </tr>\n",
       "    <tr>\n",
       "      <th>4</th>\n",
       "      <td>Household</td>\n",
       "      <td>Generic Innovative Rinse Bowl And Strainer In ...</td>\n",
       "    </tr>\n",
       "  </tbody>\n",
       "</table>\n",
       "</div>"
      ],
      "text/plain": [
       "             0                                                  1\n",
       "0    Household  MBTC Cadbury Cafeteria/Bar Stool in Black Set ...\n",
       "1  Electronics  Pes Camouflage Protective Frame Mount Housing ...\n",
       "2    Household  WICKER HUB Wicker Outdoor Patio Sofa Set (Whit...\n",
       "3        Books  FOK Set Of 5Pc Good Quality Plastic Printed Sh...\n",
       "4    Household  Generic Innovative Rinse Bowl And Strainer In ..."
      ]
     },
     "execution_count": 6,
     "metadata": {},
     "output_type": "execute_result"
    }
   ],
   "source": [
    "df.head()"
   ]
  },
  {
   "cell_type": "markdown",
   "id": "2f134edf",
   "metadata": {},
   "source": [
    "### Check info"
   ]
  },
  {
   "cell_type": "code",
   "execution_count": 7,
   "id": "7e7e63e8",
   "metadata": {},
   "outputs": [
    {
     "name": "stdout",
     "output_type": "stream",
     "text": [
      "<class 'pandas.core.frame.DataFrame'>\n",
      "RangeIndex: 1000 entries, 0 to 999\n",
      "Data columns (total 2 columns):\n",
      " #   Column  Non-Null Count  Dtype \n",
      "---  ------  --------------  ----- \n",
      " 0   0       1000 non-null   object\n",
      " 1   1       999 non-null    object\n",
      "dtypes: object(2)\n",
      "memory usage: 15.8+ KB\n"
     ]
    }
   ],
   "source": [
    "df.info()"
   ]
  },
  {
   "cell_type": "markdown",
   "id": "6ddb6118",
   "metadata": {},
   "source": [
    "### Check for missing values"
   ]
  },
  {
   "cell_type": "code",
   "execution_count": 8,
   "id": "7210798c",
   "metadata": {},
   "outputs": [
    {
     "data": {
      "text/plain": [
       "0    0\n",
       "1    1\n",
       "dtype: int64"
      ]
     },
     "execution_count": 8,
     "metadata": {},
     "output_type": "execute_result"
    }
   ],
   "source": [
    "df.isna().sum()"
   ]
  },
  {
   "cell_type": "markdown",
   "id": "ddfee8a5",
   "metadata": {},
   "source": [
    "### Drop missing rows"
   ]
  },
  {
   "cell_type": "code",
   "execution_count": 9,
   "id": "53d8e062",
   "metadata": {},
   "outputs": [],
   "source": [
    "df.dropna(inplace = True)"
   ]
  },
  {
   "cell_type": "markdown",
   "id": "b329541d",
   "metadata": {},
   "source": [
    "### Print some of the text along with its Label"
   ]
  },
  {
   "cell_type": "code",
   "execution_count": 10,
   "id": "929a39cf",
   "metadata": {},
   "outputs": [
    {
     "name": "stdout",
     "output_type": "stream",
     "text": [
      "Household -- MBTC Cadbury Cafeteria/Bar Stool in Black Set of 2 Color:Black   Add a stylish look to your kitchen or in-house bar with this MBTC Bar stool This stylish and sleek bar stool is made of fine quality metal . The fine metal provides a firm frame while the Black Seating with a natural finish gives it a glossy look. The light in weight design lets you move it around with ease. This bar stool comes with height adjustment facility at the base that allows you to lift it according to your preference\n",
      "\n",
      "Electronics -- Pes Camouflage Protective Frame Mount Housing Camera Border with Quick Release Buckle and Screw for GoPro Hero 6 Hero 5 Accessory - Green ?Easy to carry, best guard who gives most effective and durable protection to your camera ?Smallest, lightest way to mount your for GoPro Hero 6/Heor 5 black ?Special and portable, receiving good acoustic radiation effect ?With side opening allow cables to be plugged into your camera for live-feed video, charging, cooling and enhanced audio at low speeds ?With Side Frame Sponge for dual protection\n",
      "\n",
      "Household -- WICKER HUB Wicker Outdoor Patio Sofa Set (White) Ms frame 18 gauge crca pipe,hdpe cane,all weather,indoor or outdoor were we want we can used.\n",
      "\n",
      "Books -- FOK Set Of 5Pc Good Quality Plastic Printed Shower Cap With Elastic Band Bathing Salon Hair Cap For Men Women And Children Shower-cap made from good quality material. It is suitable for use at home, salons, spas, beauty parlours and many more places like these. This shower cap is free size and can be used by both adults as well as children. It helps keep your hair dry and secure when used during baths, spa treatments, beauty parlour sessions and other such activities. The stitching is of good quality and the elastic is durable. This cap is made from waterproof material and is comfortable to wear.\n",
      "\n",
      "Household -- Generic Innovative Rinse Bowl And Strainer In One (Multicolor) An innovation in cooking and preparation gadgets. Rinse is a 2-in-1 bowl and strainer that is perfect for washing fruits, vegetables and salad. A smooth, locking strainer easily folds out to catch your food items in one easy tilt. We don't like it, we love it! This bowl has a strainer \"side\" that folds out to catch your pasta/fruit/veggies, so you can rinse and then strain out the water all in one bowl. An easy way to wash your vegetables and also a nice salad bowl to put on the table.\n",
      "\n"
     ]
    }
   ],
   "source": [
    "for i in range(5):\n",
    "    print(df[0][i],'--',df[1][i])\n",
    "    print()"
   ]
  },
  {
   "cell_type": "markdown",
   "id": "8261530c",
   "metadata": {},
   "source": [
    "### Create a function to preprocess the text"
   ]
  },
  {
   "cell_type": "code",
   "execution_count": 11,
   "id": "9dbc6fe4",
   "metadata": {},
   "outputs": [],
   "source": [
    "def preprocess(sentence):\n",
    "    sentence = sentence.lower()\n",
    "    \n",
    "    text = re.sub(r\"[^a-zA-Z0-9]\", ' ', sentence).split()\n",
    "    \n",
    "    lemma = WordNetLemmatizer()\n",
    "    text = [lemma.lemmatize(i) for i in text]\n",
    "    \n",
    "    return ' '.join(text)"
   ]
  },
  {
   "cell_type": "code",
   "execution_count": 12,
   "id": "b9dbec61",
   "metadata": {},
   "outputs": [],
   "source": [
    "df[1] = df[1].apply(preprocess)"
   ]
  },
  {
   "cell_type": "markdown",
   "id": "6ca61a38",
   "metadata": {},
   "source": [
    "### Print some of the texts after the applying the function"
   ]
  },
  {
   "cell_type": "code",
   "execution_count": 13,
   "id": "1a16a6fa",
   "metadata": {},
   "outputs": [
    {
     "name": "stdout",
     "output_type": "stream",
     "text": [
      "Household -- mbtc cadbury cafeteria bar stool in black set of 2 color black add a stylish look to your kitchen or in house bar with this mbtc bar stool this stylish and sleek bar stool is made of fine quality metal the fine metal provides a firm frame while the black seating with a natural finish give it a glossy look the light in weight design let you move it around with ease this bar stool come with height adjustment facility at the base that allows you to lift it according to your preference\n",
      "\n",
      "Electronics -- pe camouflage protective frame mount housing camera border with quick release buckle and screw for gopro hero 6 hero 5 accessory green easy to carry best guard who give most effective and durable protection to your camera smallest lightest way to mount your for gopro hero 6 heor 5 black special and portable receiving good acoustic radiation effect with side opening allow cable to be plugged into your camera for live feed video charging cooling and enhanced audio at low speed with side frame sponge for dual protection\n",
      "\n",
      "Household -- wicker hub wicker outdoor patio sofa set white m frame 18 gauge crca pipe hdpe cane all weather indoor or outdoor were we want we can used\n",
      "\n",
      "Books -- fok set of 5pc good quality plastic printed shower cap with elastic band bathing salon hair cap for men woman and child shower cap made from good quality material it is suitable for use at home salon spa beauty parlour and many more place like these this shower cap is free size and can be used by both adult a well a child it help keep your hair dry and secure when used during bath spa treatment beauty parlour session and other such activity the stitching is of good quality and the elastic is durable this cap is made from waterproof material and is comfortable to wear\n",
      "\n",
      "Household -- generic innovative rinse bowl and strainer in one multicolor an innovation in cooking and preparation gadget rinse is a 2 in 1 bowl and strainer that is perfect for washing fruit vegetable and salad a smooth locking strainer easily fold out to catch your food item in one easy tilt we don t like it we love it this bowl ha a strainer side that fold out to catch your pasta fruit veggie so you can rinse and then strain out the water all in one bowl an easy way to wash your vegetable and also a nice salad bowl to put on the table\n",
      "\n"
     ]
    }
   ],
   "source": [
    "for i in range(5):\n",
    "    print(df[0][i],'--',df[1][i])\n",
    "    print()"
   ]
  },
  {
   "cell_type": "markdown",
   "id": "6453c4c8",
   "metadata": {},
   "source": [
    "### Check for imbalance in the dataset"
   ]
  },
  {
   "cell_type": "code",
   "execution_count": 14,
   "id": "b26a2b82",
   "metadata": {},
   "outputs": [
    {
     "data": {
      "text/plain": [
       "<Axes: ylabel='0'>"
      ]
     },
     "execution_count": 14,
     "metadata": {},
     "output_type": "execute_result"
    },
    {
     "data": {
      "image/png": "[encoded data removed]",
      "text/plain": [
       "<Figure size 1400x400 with 2 Axes>"
      ]
     },
     "metadata": {},
     "output_type": "display_data"
    }
   ],
   "source": [
    "plt.figure(figsize= (14,4))\n",
    "plt.subplot(1,2,1)\n",
    "sns.countplot(y = df[0])\n",
    "plt.subplot(1,2,2)\n",
    "df[0].value_counts().plot.pie(autopct = '%1.1f%%', cmap = 'plasma')"
   ]
  },
  {
   "cell_type": "markdown",
   "id": "ae6df594",
   "metadata": {},
   "source": [
    "### Split the dataset into Input & Target Variables"
   ]
  },
  {
   "cell_type": "code",
   "execution_count": 15,
   "id": "35bba160",
   "metadata": {},
   "outputs": [],
   "source": [
    "X = df[1]"
   ]
  },
  {
   "cell_type": "code",
   "execution_count": 16,
   "id": "700b5d61",
   "metadata": {},
   "outputs": [],
   "source": [
    "y = df[0]"
   ]
  },
  {
   "cell_type": "markdown",
   "id": "391c3c5e",
   "metadata": {},
   "source": [
    "### Label Encode our Target Variables"
   ]
  },
  {
   "cell_type": "code",
   "execution_count": 17,
   "id": "b23ffb32",
   "metadata": {},
   "outputs": [],
   "source": [
    "y = y.map({'Household':0,'Books':1, 'Clothing & Accessories':2, 'Electronics':3})"
   ]
  },
  {
   "cell_type": "markdown",
   "id": "dd925a6a",
   "metadata": {},
   "source": [
    "### Create Keras tokenizer object with 5000 max words\n",
    "* Convert text to sequence\n",
    "* Add padding"
   ]
  },
  {
   "cell_type": "code",
   "execution_count": 18,
   "id": "1602b299",
   "metadata": {},
   "outputs": [],
   "source": [
    "tokenizer = Tokenizer(num_words=5000)\n",
    "tokenizer.fit_on_texts(X)\n",
    "vocab_size = len(tokenizer.word_index) + 1\n",
    "\n",
    "def text_encoding(txt):\n",
    "    encoded_docs = tokenizer.texts_to_sequences(txt)\n",
    "    \n",
    "    padded_sequence = pad_sequences(encoded_docs, maxlen = 128)\n",
    "    \n",
    "    return padded_sequence\n",
    "\n",
    "X = text_encoding(X)"
   ]
  },
  {
   "cell_type": "markdown",
   "id": "646a5215",
   "metadata": {},
   "source": [
    "### Split the dataset into Training & Testing set"
   ]
  },
  {
   "cell_type": "code",
   "execution_count": 19,
   "id": "031d0aeb",
   "metadata": {},
   "outputs": [],
   "source": [
    "X_train, X_test,y_train,y_test = train_test_split(X,y, test_size = 0.2)"
   ]
  },
  {
   "cell_type": "markdown",
   "id": "8a03f6e5",
   "metadata": {},
   "source": [
    "### Create keras Sequential model with Bidirectional LSTM layers"
   ]
  },
  {
   "cell_type": "code",
   "execution_count": 20,
   "id": "df2f07b8",
   "metadata": {},
   "outputs": [],
   "source": [
    "model = Sequential()\n",
    "\n",
    "model.add(layers.Embedding(vocab_size, 128))\n",
    "\n",
    "model.add(layers.Bidirectional(layers.LSTM(128, return_sequences=True)))\n",
    "model.add(layers.Dropout(0.2))\n",
    "\n",
    "model.add(layers.Bidirectional(layers.LSTM(128)))\n",
    "model.add(layers.Dropout(0.2))\n",
    "\n",
    "model.add(layers.Dense(4, activation = 'sigmoid'))"
   ]
  },
  {
   "cell_type": "markdown",
   "id": "3652d285",
   "metadata": {},
   "source": [
    "### Compile the model"
   ]
  },
  {
   "cell_type": "code",
   "execution_count": 21,
   "id": "7257228e",
   "metadata": {},
   "outputs": [],
   "source": [
    "model.compile(optimizer = 'adam', loss= 'sparse_categorical_crossentropy', metrics = ['accuracy'])"
   ]
  },
  {
   "cell_type": "markdown",
   "id": "00de5e0e",
   "metadata": {},
   "source": [
    "### Train the model"
   ]
  },
  {
   "cell_type": "code",
   "execution_count": 22,
   "id": "b3b014fc",
   "metadata": {},
   "outputs": [
    {
     "name": "stdout",
     "output_type": "stream",
     "text": [
      "Epoch 1/10\n",
      "24/24 [==============================] - 41s 1s/step - loss: 1.3169 - accuracy: 0.3992 - val_loss: 1.1964 - val_accuracy: 0.4000\n",
      "Epoch 2/10\n",
      "24/24 [==============================] - 23s 957ms/step - loss: 0.9770 - accuracy: 0.5942 - val_loss: 0.8220 - val_accuracy: 0.5500\n",
      "Epoch 3/10\n",
      "24/24 [==============================] - 23s 960ms/step - loss: 0.4984 - accuracy: 0.8142 - val_loss: 0.6703 - val_accuracy: 0.7500\n",
      "Epoch 4/10\n",
      "24/24 [==============================] - 23s 962ms/step - loss: 0.1976 - accuracy: 0.9433 - val_loss: 0.7212 - val_accuracy: 0.7750\n",
      "Epoch 5/10\n",
      "24/24 [==============================] - 24s 1s/step - loss: 0.0989 - accuracy: 0.9697 - val_loss: 0.6219 - val_accuracy: 0.8000\n",
      "Epoch 6/10\n",
      "24/24 [==============================] - 25s 1s/step - loss: 0.0350 - accuracy: 0.9947 - val_loss: 1.1120 - val_accuracy: 0.7500\n",
      "Epoch 7/10\n",
      "24/24 [==============================] - 24s 999ms/step - loss: 0.0411 - accuracy: 0.9921 - val_loss: 1.0523 - val_accuracy: 0.6750\n",
      "Epoch 8/10\n",
      "24/24 [==============================] - 24s 1s/step - loss: 0.0186 - accuracy: 0.9960 - val_loss: 0.7760 - val_accuracy: 0.7000\n",
      "Epoch 9/10\n",
      "24/24 [==============================] - 23s 946ms/step - loss: 0.0062 - accuracy: 1.0000 - val_loss: 0.8144 - val_accuracy: 0.7250\n",
      "Epoch 10/10\n",
      "24/24 [==============================] - 23s 943ms/step - loss: 0.0059 - accuracy: 0.9987 - val_loss: 1.1204 - val_accuracy: 0.7500\n"
     ]
    },
    {
     "data": {
      "text/plain": [
       "<keras.src.callbacks.History at 0x21175627100>"
      ]
     },
     "execution_count": 22,
     "metadata": {},
     "output_type": "execute_result"
    }
   ],
   "source": [
    "model.fit(X_train, y_train, epochs = 10, validation_split=0.05)"
   ]
  },
  {
   "cell_type": "markdown",
   "id": "7286d926",
   "metadata": {},
   "source": [
    "### Make predictions with X_test"
   ]
  },
  {
   "cell_type": "code",
   "execution_count": 23,
   "id": "d984a8e4",
   "metadata": {},
   "outputs": [
    {
     "name": "stdout",
     "output_type": "stream",
     "text": [
      "7/7 [==============================] - 5s 223ms/step\n"
     ]
    }
   ],
   "source": [
    "y_pred = model.predict(X_test)\n"
   ]
  },
  {
   "cell_type": "markdown",
   "id": "5be37c95",
   "metadata": {},
   "source": [
    "### Fetch the index of the higher probable prediction"
   ]
  },
  {
   "cell_type": "code",
   "execution_count": 61,
   "id": "9796e71b",
   "metadata": {},
   "outputs": [],
   "source": [
    "y_pred = [np.argmax(i) for i in y_pred]"
   ]
  },
  {
   "cell_type": "markdown",
   "id": "330f1e88",
   "metadata": {},
   "source": [
    "### Evaluate the model"
   ]
  },
  {
   "cell_type": "markdown",
   "id": "a018f2c7",
   "metadata": {},
   "source": [
    "### Accuracy score"
   ]
  },
  {
   "cell_type": "code",
   "execution_count": 62,
   "id": "014fbaf7",
   "metadata": {},
   "outputs": [
    {
     "data": {
      "text/plain": [
       "0.87"
      ]
     },
     "execution_count": 62,
     "metadata": {},
     "output_type": "execute_result"
    }
   ],
   "source": [
    "accuracy_score(y_test,y_pred)"
   ]
  },
  {
   "cell_type": "markdown",
   "id": "71207bfa",
   "metadata": {},
   "source": [
    "### Confusion matrix"
   ]
  },
  {
   "cell_type": "code",
   "execution_count": 63,
   "id": "a6ac7901",
   "metadata": {},
   "outputs": [
    {
     "data": {
      "text/plain": [
       "<AxesSubplot:>"
      ]
     },
     "execution_count": 63,
     "metadata": {},
     "output_type": "execute_result"
    },
    {
     "data": {
      "image/png": "[encoded data removed]",
      "text/plain": [
       "<Figure size 432x288 with 2 Axes>"
      ]
     },
     "metadata": {
      "needs_background": "light"
     },
     "output_type": "display_data"
    }
   ],
   "source": [
    "sns.heatmap(confusion_matrix(y_test,y_pred), annot = True, fmt = 'd')"
   ]
  },
  {
   "cell_type": "markdown",
   "id": "e0d72289",
   "metadata": {},
   "source": [
    "### Classification Report"
   ]
  },
  {
   "cell_type": "code",
   "execution_count": 64,
   "id": "9dacd583",
   "metadata": {},
   "outputs": [
    {
     "name": "stdout",
     "output_type": "stream",
     "text": [
      "              precision    recall  f1-score   support\n",
      "\n",
      "           0       0.87      0.91      0.89        78\n",
      "           1       0.90      0.94      0.92        47\n",
      "           2       0.96      0.68      0.80        38\n",
      "           3       0.79      0.89      0.84        37\n",
      "\n",
      "    accuracy                           0.87       200\n",
      "   macro avg       0.88      0.86      0.86       200\n",
      "weighted avg       0.88      0.87      0.87       200\n",
      "\n"
     ]
    }
   ],
   "source": [
    "print(classification_report(y_test,y_pred))"
   ]
  },
  {
   "cell_type": "markdown",
   "id": "a0554b93",
   "metadata": {},
   "source": [
    "***"
   ]
  }
 ],
 "metadata": {
  "kernelspec": {
   "display_name": "Python 3 (ipykernel)",
   "language": "python",
   "name": "python3"
  },
  "language_info": {
   "codemirror_mode": {
    "name": "ipython",
    "version": 3
   },
   "file_extension": ".py",
   "mimetype": "text/x-python",
   "name": "python",
   "nbconvert_exporter": "python",
   "pygments_lexer": "ipython3",
   "version": "3.10.9"
  }
 },
 "nbformat": 4,
 "nbformat_minor": 5
}
