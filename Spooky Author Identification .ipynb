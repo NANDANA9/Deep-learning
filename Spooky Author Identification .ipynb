{
 "cells": [
  {
   "cell_type": "markdown",
   "id": "544d40ff",
   "metadata": {},
   "source": [
    "## Spooky Author Identification"
   ]
  },
  {
   "cell_type": "markdown",
   "id": "71086c0c",
   "metadata": {},
   "source": [
    "The competition dataset contains text from works of fiction written by spooky authors of the public domain: Edgar Allan Poe, HP Lovecraft and Mary Shelley. The data was prepared by chunking larger texts into sentences using CoreNLP's MaxEnt sentence tokenizer, so you may notice the odd non-sentence here and there. Your objective is to accurately identify the author of the sentences in the test set."
   ]
  },
  {
   "cell_type": "markdown",
   "id": "38f57f70",
   "metadata": {},
   "source": [
    "#### Data fields\n",
    "* id - a unique identifier for each sentence\n",
    "* text - some text written by one of the authors\n",
    "* author - the author of the sentence (EAP: Edgar Allan Poe, HPL: HP Lovecraft; MWS: Mary Wollstonecraft Shelley)"
   ]
  },
  {
   "cell_type": "markdown",
   "id": "3239d8c2",
   "metadata": {},
   "source": [
    "You can also find the dataset <a href = \"https://www.kaggle.com/competitions/spooky-author-identification/overview\"> here</a>"
   ]
  },
  {
   "cell_type": "markdown",
   "id": "7b034367",
   "metadata": {},
   "source": [
    "***"
   ]
  },
  {
   "cell_type": "markdown",
   "id": "12c5b3b5",
   "metadata": {},
   "source": [
    "### Import necessary libraries"
   ]
  },
  {
   "cell_type": "code",
   "execution_count": 1,
   "id": "c407690c",
   "metadata": {},
   "outputs": [],
   "source": [
    "import numpy as np\n",
    "import pandas as pd\n",
    "import matplotlib.pyplot as plt\n",
    "import seaborn as sns\n",
    "from sklearn.model_selection import train_test_split\n",
    "import re\n",
    "from nltk.corpus import stopwords\n",
    "from nltk.stem import WordNetLemmatizer\n",
    "from sklearn.preprocessing import LabelBinarizer\n",
    "from keras.preprocessing.text import Tokenizer\n",
    "from tensorflow.keras.preprocessing.sequence import pad_sequences\n",
    "from keras import Sequential\n",
    "from keras import layers\n",
    "from sklearn.metrics import confusion_matrix, classification_report, accuracy_score"
   ]
  },
  {
   "cell_type": "markdown",
   "id": "5dd4756d",
   "metadata": {},
   "source": [
    "### Read 'spooky.csv' dataset"
   ]
  },
  {
   "cell_type": "code",
   "execution_count": 2,
   "id": "34d171a9",
   "metadata": {},
   "outputs": [],
   "source": [
    "df=pd.read_csv('spooky.csv')"
   ]
  },
  {
   "cell_type": "code",
   "execution_count": 3,
   "id": "698e4601",
   "metadata": {},
   "outputs": [
    {
     "data": {
      "text/html": [
       "<div>\n",
       "<style scoped>\n",
       "    .dataframe tbody tr th:only-of-type {\n",
       "        vertical-align: middle;\n",
       "    }\n",
       "\n",
       "    .dataframe tbody tr th {\n",
       "        vertical-align: top;\n",
       "    }\n",
       "\n",
       "    .dataframe thead th {\n",
       "        text-align: right;\n",
       "    }\n",
       "</style>\n",
       "<table border=\"1\" class=\"dataframe\">\n",
       "  <thead>\n",
       "    <tr style=\"text-align: right;\">\n",
       "      <th></th>\n",
       "      <th>id</th>\n",
       "      <th>text</th>\n",
       "      <th>author</th>\n",
       "    </tr>\n",
       "  </thead>\n",
       "  <tbody>\n",
       "    <tr>\n",
       "      <th>0</th>\n",
       "      <td>id26305</td>\n",
       "      <td>This process, however, afforded me no means of...</td>\n",
       "      <td>EAP</td>\n",
       "    </tr>\n",
       "    <tr>\n",
       "      <th>1</th>\n",
       "      <td>id17569</td>\n",
       "      <td>It never once occurred to me that the fumbling...</td>\n",
       "      <td>HPL</td>\n",
       "    </tr>\n",
       "    <tr>\n",
       "      <th>2</th>\n",
       "      <td>id11008</td>\n",
       "      <td>In his left hand was a gold snuff box, from wh...</td>\n",
       "      <td>EAP</td>\n",
       "    </tr>\n",
       "    <tr>\n",
       "      <th>3</th>\n",
       "      <td>id27763</td>\n",
       "      <td>How lovely is spring As we looked from Windsor...</td>\n",
       "      <td>MWS</td>\n",
       "    </tr>\n",
       "    <tr>\n",
       "      <th>4</th>\n",
       "      <td>id12958</td>\n",
       "      <td>Finding nothing else, not even gold, the Super...</td>\n",
       "      <td>HPL</td>\n",
       "    </tr>\n",
       "  </tbody>\n",
       "</table>\n",
       "</div>"
      ],
      "text/plain": [
       "        id                                               text author\n",
       "0  id26305  This process, however, afforded me no means of...    EAP\n",
       "1  id17569  It never once occurred to me that the fumbling...    HPL\n",
       "2  id11008  In his left hand was a gold snuff box, from wh...    EAP\n",
       "3  id27763  How lovely is spring As we looked from Windsor...    MWS\n",
       "4  id12958  Finding nothing else, not even gold, the Super...    HPL"
      ]
     },
     "execution_count": 3,
     "metadata": {},
     "output_type": "execute_result"
    }
   ],
   "source": [
    "df.head()"
   ]
  },
  {
   "cell_type": "markdown",
   "id": "0e077888",
   "metadata": {},
   "source": [
    "### Drop 'id' column"
   ]
  },
  {
   "cell_type": "code",
   "execution_count": 4,
   "id": "446135ed",
   "metadata": {},
   "outputs": [],
   "source": [
    "df.drop(columns=['id'],inplace=True)"
   ]
  },
  {
   "cell_type": "code",
   "execution_count": 5,
   "id": "0d1f12b7",
   "metadata": {},
   "outputs": [
    {
     "data": {
      "text/html": [
       "<div>\n",
       "<style scoped>\n",
       "    .dataframe tbody tr th:only-of-type {\n",
       "        vertical-align: middle;\n",
       "    }\n",
       "\n",
       "    .dataframe tbody tr th {\n",
       "        vertical-align: top;\n",
       "    }\n",
       "\n",
       "    .dataframe thead th {\n",
       "        text-align: right;\n",
       "    }\n",
       "</style>\n",
       "<table border=\"1\" class=\"dataframe\">\n",
       "  <thead>\n",
       "    <tr style=\"text-align: right;\">\n",
       "      <th></th>\n",
       "      <th>text</th>\n",
       "      <th>author</th>\n",
       "    </tr>\n",
       "  </thead>\n",
       "  <tbody>\n",
       "    <tr>\n",
       "      <th>0</th>\n",
       "      <td>This process, however, afforded me no means of...</td>\n",
       "      <td>EAP</td>\n",
       "    </tr>\n",
       "    <tr>\n",
       "      <th>1</th>\n",
       "      <td>It never once occurred to me that the fumbling...</td>\n",
       "      <td>HPL</td>\n",
       "    </tr>\n",
       "    <tr>\n",
       "      <th>2</th>\n",
       "      <td>In his left hand was a gold snuff box, from wh...</td>\n",
       "      <td>EAP</td>\n",
       "    </tr>\n",
       "    <tr>\n",
       "      <th>3</th>\n",
       "      <td>How lovely is spring As we looked from Windsor...</td>\n",
       "      <td>MWS</td>\n",
       "    </tr>\n",
       "    <tr>\n",
       "      <th>4</th>\n",
       "      <td>Finding nothing else, not even gold, the Super...</td>\n",
       "      <td>HPL</td>\n",
       "    </tr>\n",
       "    <tr>\n",
       "      <th>...</th>\n",
       "      <td>...</td>\n",
       "      <td>...</td>\n",
       "    </tr>\n",
       "    <tr>\n",
       "      <th>19574</th>\n",
       "      <td>I could have fancied, while I looked at it, th...</td>\n",
       "      <td>EAP</td>\n",
       "    </tr>\n",
       "    <tr>\n",
       "      <th>19575</th>\n",
       "      <td>The lids clenched themselves together as if in...</td>\n",
       "      <td>EAP</td>\n",
       "    </tr>\n",
       "    <tr>\n",
       "      <th>19576</th>\n",
       "      <td>Mais il faut agir that is to say, a Frenchman ...</td>\n",
       "      <td>EAP</td>\n",
       "    </tr>\n",
       "    <tr>\n",
       "      <th>19577</th>\n",
       "      <td>For an item of news like this, it strikes us i...</td>\n",
       "      <td>EAP</td>\n",
       "    </tr>\n",
       "    <tr>\n",
       "      <th>19578</th>\n",
       "      <td>He laid a gnarled claw on my shoulder, and it ...</td>\n",
       "      <td>HPL</td>\n",
       "    </tr>\n",
       "  </tbody>\n",
       "</table>\n",
       "<p>19579 rows × 2 columns</p>\n",
       "</div>"
      ],
      "text/plain": [
       "                                                    text author\n",
       "0      This process, however, afforded me no means of...    EAP\n",
       "1      It never once occurred to me that the fumbling...    HPL\n",
       "2      In his left hand was a gold snuff box, from wh...    EAP\n",
       "3      How lovely is spring As we looked from Windsor...    MWS\n",
       "4      Finding nothing else, not even gold, the Super...    HPL\n",
       "...                                                  ...    ...\n",
       "19574  I could have fancied, while I looked at it, th...    EAP\n",
       "19575  The lids clenched themselves together as if in...    EAP\n",
       "19576  Mais il faut agir that is to say, a Frenchman ...    EAP\n",
       "19577  For an item of news like this, it strikes us i...    EAP\n",
       "19578  He laid a gnarled claw on my shoulder, and it ...    HPL\n",
       "\n",
       "[19579 rows x 2 columns]"
      ]
     },
     "execution_count": 5,
     "metadata": {},
     "output_type": "execute_result"
    }
   ],
   "source": [
    "df"
   ]
  },
  {
   "cell_type": "markdown",
   "id": "20b4579d",
   "metadata": {},
   "source": [
    "### Check for missing values"
   ]
  },
  {
   "cell_type": "code",
   "execution_count": 6,
   "id": "ab1be057",
   "metadata": {},
   "outputs": [
    {
     "data": {
      "text/plain": [
       "text      0\n",
       "author    0\n",
       "dtype: int64"
      ]
     },
     "execution_count": 6,
     "metadata": {},
     "output_type": "execute_result"
    }
   ],
   "source": [
    "df.isna().sum()"
   ]
  },
  {
   "cell_type": "markdown",
   "id": "004c7972",
   "metadata": {},
   "source": [
    "### Check for duplicates"
   ]
  },
  {
   "cell_type": "code",
   "execution_count": 8,
   "id": "81780e93",
   "metadata": {},
   "outputs": [
    {
     "data": {
      "text/plain": [
       "0"
      ]
     },
     "execution_count": 8,
     "metadata": {},
     "output_type": "execute_result"
    }
   ],
   "source": [
    "df.duplicated().sum()"
   ]
  },
  {
   "cell_type": "markdown",
   "id": "b8edd7fe",
   "metadata": {},
   "source": [
    "### Print some of the text along with its author"
   ]
  },
  {
   "cell_type": "code",
   "execution_count": 7,
   "id": "79a5baaa",
   "metadata": {},
   "outputs": [
    {
     "name": "stdout",
     "output_type": "stream",
     "text": [
      "This process, however, afforded me no means of ascertaining the dimensions of my dungeon; as I might make its circuit, and return to the point whence I set out, without being aware of the fact; so perfectly uniform seemed the wall. --- EAP\n",
      "\n",
      "It never once occurred to me that the fumbling might be a mere mistake. --- HPL\n",
      "\n",
      "In his left hand was a gold snuff box, from which, as he capered down the hill, cutting all manner of fantastic steps, he took snuff incessantly with an air of the greatest possible self satisfaction. --- EAP\n",
      "\n",
      "How lovely is spring As we looked from Windsor Terrace on the sixteen fertile counties spread beneath, speckled by happy cottages and wealthier towns, all looked as in former years, heart cheering and fair. --- MWS\n",
      "\n",
      "Finding nothing else, not even gold, the Superintendent abandoned his attempts; but a perplexed look occasionally steals over his countenance as he sits thinking at his desk. --- HPL\n",
      "\n"
     ]
    }
   ],
   "source": [
    "for i in range(5):\n",
    "    print(df['text'][i],'---',df['author'][i])\n",
    "    print()"
   ]
  },
  {
   "cell_type": "markdown",
   "id": "f15928e1",
   "metadata": {},
   "source": [
    "### Create a function to preproces the text"
   ]
  },
  {
   "cell_type": "code",
   "execution_count": 8,
   "id": "1fd6274e",
   "metadata": {},
   "outputs": [],
   "source": [
    "def prepro(sent):\n",
    "    text=re.sub(r'[^0-9a-zA-Z]',' ',sent).split()\n",
    "    words=[i.lower() for i in text]\n",
    "    \n",
    "    lema=WordNetLemmatizer()\n",
    "    word=[lema.lemmatize(word,'v')for word in words]\n",
    "    return ' '.join(word)\n",
    "\n",
    "    "
   ]
  },
  {
   "cell_type": "code",
   "execution_count": 9,
   "id": "9d9ef6a6",
   "metadata": {},
   "outputs": [],
   "source": [
    "df['text']=df['text'].apply(prepro)"
   ]
  },
  {
   "cell_type": "markdown",
   "id": "b97a5bef",
   "metadata": {},
   "source": [
    "### Print some of the text after preprocess"
   ]
  },
  {
   "cell_type": "code",
   "execution_count": 10,
   "id": "019c81ff",
   "metadata": {},
   "outputs": [
    {
     "name": "stdout",
     "output_type": "stream",
     "text": [
      "this process however afford me no mean of ascertain the dimension of my dungeon as i might make its circuit and return to the point whence i set out without be aware of the fact so perfectly uniform seem the wall --- EAP\n",
      "\n",
      "it never once occur to me that the fumble might be a mere mistake --- HPL\n",
      "\n",
      "in his leave hand be a gold snuff box from which as he caper down the hill cut all manner of fantastic step he take snuff incessantly with an air of the greatest possible self satisfaction --- EAP\n",
      "\n",
      "how lovely be spring as we look from windsor terrace on the sixteen fertile counties spread beneath speckle by happy cottages and wealthier towns all look as in former years heart cheer and fair --- MWS\n",
      "\n",
      "find nothing else not even gold the superintendent abandon his attempt but a perplex look occasionally steal over his countenance as he sit think at his desk --- HPL\n",
      "\n"
     ]
    }
   ],
   "source": [
    "for i in range(5):\n",
    "    print(df['text'][i],'---',df['author'][i])\n",
    "    print()"
   ]
  },
  {
   "cell_type": "markdown",
   "id": "fcf2c9b4",
   "metadata": {},
   "source": [
    "### Check for imbalance in the dataset"
   ]
  },
  {
   "cell_type": "code",
   "execution_count": 11,
   "id": "fc572da2",
   "metadata": {},
   "outputs": [
    {
     "data": {
      "text/plain": [
       "<Axes: ylabel='author'>"
      ]
     },
     "execution_count": 11,
     "metadata": {},
     "output_type": "execute_result"
    },
    {
     "data": {
      "image/png": "[encoded data removed]",
      "text/plain": [
       "<Figure size 900x300 with 2 Axes>"
      ]
     },
     "metadata": {},
     "output_type": "display_data"
    }
   ],
   "source": [
    "plt.figure(figsize=(9,3))\n",
    "plt.subplot(1,2,1)\n",
    "sns.countplot(y=df['author'])\n",
    "plt.subplot(1,2,2)\n",
    "df['author'].value_counts().plot.pie(autopct='%1.1f%%',cmap='plasma')"
   ]
  },
  {
   "cell_type": "markdown",
   "id": "947216be",
   "metadata": {},
   "source": [
    "### Split the dataset into Input & Target Variables"
   ]
  },
  {
   "cell_type": "code",
   "execution_count": 12,
   "id": "b0b8e053",
   "metadata": {},
   "outputs": [],
   "source": [
    "X=df['text']\n",
    "y=df['author']"
   ]
  },
  {
   "cell_type": "markdown",
   "id": "0a878bb4",
   "metadata": {},
   "source": [
    "### Label Encode our target variables"
   ]
  },
  {
   "cell_type": "code",
   "execution_count": 13,
   "id": "84e02289",
   "metadata": {},
   "outputs": [],
   "source": [
    "encoder = LabelBinarizer()\n",
    "y = encoder.fit_transform(y)"
   ]
  },
  {
   "cell_type": "code",
   "execution_count": 14,
   "id": "7fbf4f2e",
   "metadata": {},
   "outputs": [
    {
     "data": {
      "text/plain": [
       "array([[1, 0, 0],\n",
       "       [0, 1, 0],\n",
       "       [1, 0, 0],\n",
       "       ...,\n",
       "       [1, 0, 0],\n",
       "       [1, 0, 0],\n",
       "       [0, 1, 0]])"
      ]
     },
     "execution_count": 14,
     "metadata": {},
     "output_type": "execute_result"
    }
   ],
   "source": [
    "y\n"
   ]
  },
  {
   "cell_type": "markdown",
   "id": "fdec3f7c",
   "metadata": {},
   "source": [
    "### Create Keras tokenizer object with 5000 max words\n",
    "* Convert text to sequence\n",
    "* Add padding"
   ]
  },
  {
   "cell_type": "code",
   "execution_count": 15,
   "id": "cef81ba4",
   "metadata": {},
   "outputs": [],
   "source": [
    "token=Tokenizer(num_words=5000)\n",
    "token.fit_on_texts(X)\n"
   ]
  },
  {
   "cell_type": "code",
   "execution_count": 16,
   "id": "cd1e9f30",
   "metadata": {},
   "outputs": [],
   "source": [
    "vocab_size=len(token.word_index)+1"
   ]
  },
  {
   "cell_type": "code",
   "execution_count": 17,
   "id": "c387e90c",
   "metadata": {},
   "outputs": [],
   "source": [
    "def text_enco(txt):\n",
    "    enco=token.texts_to_sequences(txt)\n",
    "    padded=pad_sequences(enco,maxlen=128)\n",
    "    return padded"
   ]
  },
  {
   "cell_type": "code",
   "execution_count": 18,
   "id": "a3387c95",
   "metadata": {},
   "outputs": [],
   "source": [
    "X=text_enco(X)"
   ]
  },
  {
   "cell_type": "markdown",
   "id": "877d7883",
   "metadata": {},
   "source": [
    "### Split the dataset into Training & Testing set"
   ]
  },
  {
   "cell_type": "code",
   "execution_count": 19,
   "id": "44d1398f",
   "metadata": {},
   "outputs": [],
   "source": [
    "X_train,X_test,y_train,y_test=train_test_split(X,y,test_size=0.2)"
   ]
  },
  {
   "cell_type": "markdown",
   "id": "11d2e388",
   "metadata": {},
   "source": [
    "### Create keras Sequential model with GRU layers"
   ]
  },
  {
   "cell_type": "code",
   "execution_count": 20,
   "id": "9af0a4fe",
   "metadata": {},
   "outputs": [
    {
     "data": {
      "text/plain": [
       "array(['EAP', 'HPL', 'MWS'], dtype=object)"
      ]
     },
     "execution_count": 20,
     "metadata": {},
     "output_type": "execute_result"
    }
   ],
   "source": [
    "df['author'].unique()"
   ]
  },
  {
   "cell_type": "code",
   "execution_count": 21,
   "id": "619fa950",
   "metadata": {},
   "outputs": [],
   "source": [
    "model=Sequential()\n",
    "\n",
    "model.add(layers.Embedding(vocab_size,128))\n",
    "model.add(layers.GRU(128,return_sequences=True))\n",
    "model.add(layers.Dropout(0.2))\n",
    "\n",
    "model.add(layers.GRU(128))\n",
    "model.add(layers.Dropout(0.2))\n",
    "\n",
    "model.add(layers.Dense(64,activation='relu'))\n",
    "model.add(layers.Dropout(0.2))\n",
    "\n",
    "model.add(layers.Dense(3,activation='softmax'))\n"
   ]
  },
  {
   "cell_type": "markdown",
   "id": "4cd30def",
   "metadata": {},
   "source": [
    "### Compile the model"
   ]
  },
  {
   "cell_type": "code",
   "execution_count": 22,
   "id": "b633bb85",
   "metadata": {},
   "outputs": [],
   "source": [
    "model.compile(loss='categorical_crossentropy',optimizer='adam',metrics=['accuracy'])"
   ]
  },
  {
   "cell_type": "markdown",
   "id": "4518b6ba",
   "metadata": {},
   "source": [
    "### Train the model"
   ]
  },
  {
   "cell_type": "code",
   "execution_count": 23,
   "id": "3dd76455",
   "metadata": {},
   "outputs": [
    {
     "name": "stdout",
     "output_type": "stream",
     "text": [
      "Epoch 1/10\n",
      "465/465 [==============================] - 117s 242ms/step - loss: 0.7325 - accuracy: 0.6743 - val_loss: 0.4754 - val_accuracy: 0.8240\n",
      "Epoch 2/10\n",
      "465/465 [==============================] - 115s 246ms/step - loss: 0.3921 - accuracy: 0.8480 - val_loss: 0.4645 - val_accuracy: 0.8227\n",
      "Epoch 3/10\n",
      "465/465 [==============================] - 114s 246ms/step - loss: 0.2757 - accuracy: 0.8958 - val_loss: 0.5443 - val_accuracy: 0.8099\n",
      "Epoch 4/10\n",
      "465/465 [==============================] - 114s 246ms/step - loss: 0.2060 - accuracy: 0.9241 - val_loss: 0.6085 - val_accuracy: 0.8138\n",
      "Epoch 5/10\n",
      "465/465 [==============================] - 114s 245ms/step - loss: 0.1515 - accuracy: 0.9442 - val_loss: 0.8332 - val_accuracy: 0.7985\n",
      "Epoch 6/10\n",
      "465/465 [==============================] - 114s 245ms/step - loss: 0.1061 - accuracy: 0.9625 - val_loss: 0.9806 - val_accuracy: 0.7895\n",
      "Epoch 7/10\n",
      "465/465 [==============================] - 113s 244ms/step - loss: 0.0933 - accuracy: 0.9663 - val_loss: 1.0531 - val_accuracy: 0.7857\n",
      "Epoch 8/10\n",
      "465/465 [==============================] - 118s 253ms/step - loss: 0.0799 - accuracy: 0.9706 - val_loss: 1.0798 - val_accuracy: 0.7768\n",
      "Epoch 9/10\n",
      "465/465 [==============================] - 118s 253ms/step - loss: 0.0580 - accuracy: 0.9769 - val_loss: 1.2105 - val_accuracy: 0.7883\n",
      "Epoch 10/10\n",
      "465/465 [==============================] - 115s 247ms/step - loss: 0.0479 - accuracy: 0.9830 - val_loss: 1.3892 - val_accuracy: 0.7755\n"
     ]
    },
    {
     "data": {
      "text/plain": [
       "<keras.src.callbacks.History at 0x1affce1b730>"
      ]
     },
     "execution_count": 23,
     "metadata": {},
     "output_type": "execute_result"
    }
   ],
   "source": [
    "model.fit(X_train,y_train,epochs=10,validation_split=0.05)"
   ]
  },
  {
   "cell_type": "markdown",
   "id": "105de566",
   "metadata": {},
   "source": [
    "### Make predictions with X_test"
   ]
  },
  {
   "cell_type": "code",
   "execution_count": 24,
   "id": "92ec427c",
   "metadata": {},
   "outputs": [
    {
     "name": "stdout",
     "output_type": "stream",
     "text": [
      "123/123 [==============================] - 8s 63ms/step\n"
     ]
    }
   ],
   "source": [
    "y_pred=model.predict(X_test)"
   ]
  },
  {
   "cell_type": "markdown",
   "id": "beecac60",
   "metadata": {},
   "source": [
    "### Fetch the index of the higher probable prediction"
   ]
  },
  {
   "cell_type": "code",
   "execution_count": 31,
   "id": "0324e9a7",
   "metadata": {},
   "outputs": [],
   "source": [
    "y_pred=[np.argmax(i)for i in y_pred]\n",
    "y_test=[np.argmax(i)for i in y_test]"
   ]
  },
  {
   "cell_type": "markdown",
   "id": "7f28fbe9",
   "metadata": {},
   "source": [
    "### Evaluate the model"
   ]
  },
  {
   "cell_type": "code",
   "execution_count": 32,
   "id": "338af61a",
   "metadata": {},
   "outputs": [
    {
     "name": "stdout",
     "output_type": "stream",
     "text": [
      "490/490 [==============================] - 30s 62ms/step - loss: 0.0885 - accuracy: 0.9823\n"
     ]
    },
    {
     "data": {
      "text/plain": [
       "[0.08848847448825836, 0.9823150038719177]"
      ]
     },
     "execution_count": 32,
     "metadata": {},
     "output_type": "execute_result"
    }
   ],
   "source": [
    "model.evaluate(X_train,y_train)"
   ]
  },
  {
   "cell_type": "markdown",
   "id": "cef4dce8",
   "metadata": {},
   "source": [
    "#### Accuracy score"
   ]
  },
  {
   "cell_type": "code",
   "execution_count": 33,
   "id": "a13603a1",
   "metadata": {},
   "outputs": [
    {
     "data": {
      "text/plain": [
       "0.41164453524004085"
      ]
     },
     "execution_count": 33,
     "metadata": {},
     "output_type": "execute_result"
    }
   ],
   "source": [
    "accuracy_score(y_test,y_pred)"
   ]
  },
  {
   "cell_type": "markdown",
   "id": "3081c7e1",
   "metadata": {},
   "source": [
    "#### Confusion matrix"
   ]
  },
  {
   "cell_type": "code",
   "execution_count": 34,
   "id": "d95c70a4",
   "metadata": {},
   "outputs": [
    {
     "data": {
      "text/plain": [
       "<Axes: >"
      ]
     },
     "execution_count": 34,
     "metadata": {},
     "output_type": "execute_result"
    },
    {
     "data": {
      "image/png": "[encoded data removed]",
      "text/plain": [
       "<Figure size 640x480 with 2 Axes>"
      ]
     },
     "metadata": {},
     "output_type": "display_data"
    }
   ],
   "source": [
    "sns.heatmap(confusion_matrix(y_test,y_pred),annot=True,fmt='d')"
   ]
  },
  {
   "cell_type": "markdown",
   "id": "b3d8877e",
   "metadata": {},
   "source": [
    "#### Classification Report"
   ]
  },
  {
   "cell_type": "code",
   "execution_count": 52,
   "id": "fbae88ea",
   "metadata": {},
   "outputs": [
    {
     "name": "stdout",
     "output_type": "stream",
     "text": [
      "              precision    recall  f1-score   support\n",
      "\n",
      "           0       0.40      1.00      0.58      1584\n",
      "           1       0.00      0.00      0.00      1094\n",
      "           2       0.00      0.00      0.00      1238\n",
      "\n",
      "    accuracy                           0.40      3916\n",
      "   macro avg       0.13      0.33      0.19      3916\n",
      "weighted avg       0.16      0.40      0.23      3916\n",
      "\n"
     ]
    },
    {
     "name": "stderr",
     "output_type": "stream",
     "text": [
      "C:\\Users\\Lenovo\\anaconda3\\lib\\site-packages\\sklearn\\metrics\\_classification.py:1344: UndefinedMetricWarning: Precision and F-score are ill-defined and being set to 0.0 in labels with no predicted samples. Use `zero_division` parameter to control this behavior.\n",
      "  _warn_prf(average, modifier, msg_start, len(result))\n",
      "C:\\Users\\Lenovo\\anaconda3\\lib\\site-packages\\sklearn\\metrics\\_classification.py:1344: UndefinedMetricWarning: Precision and F-score are ill-defined and being set to 0.0 in labels with no predicted samples. Use `zero_division` parameter to control this behavior.\n",
      "  _warn_prf(average, modifier, msg_start, len(result))\n",
      "C:\\Users\\Lenovo\\anaconda3\\lib\\site-packages\\sklearn\\metrics\\_classification.py:1344: UndefinedMetricWarning: Precision and F-score are ill-defined and being set to 0.0 in labels with no predicted samples. Use `zero_division` parameter to control this behavior.\n",
      "  _warn_prf(average, modifier, msg_start, len(result))\n"
     ]
    }
   ],
   "source": [
    "print(classification_report(y_test,y_pred))"
   ]
  },
  {
   "cell_type": "code",
   "execution_count": 46,
   "id": "ed6b7c1f",
   "metadata": {},
   "outputs": [
    {
     "name": "stdout",
     "output_type": "stream",
     "text": [
      "              precision    recall  f1-score   support\n",
      "\n",
      "           0       0.77      0.79      0.78      1596\n",
      "           1       0.75      0.79      0.77      1139\n",
      "           2       0.81      0.73      0.77      1181\n",
      "\n",
      "    accuracy                           0.77      3916\n",
      "   macro avg       0.78      0.77      0.77      3916\n",
      "weighted avg       0.78      0.77      0.77      3916\n",
      "\n"
     ]
    }
   ],
   "source": []
  },
  {
   "cell_type": "markdown",
   "id": "5dcb2e61",
   "metadata": {},
   "source": [
    "***"
   ]
  }
 ],
 "metadata": {
  "kernelspec": {
   "display_name": "Python 3 (ipykernel)",
   "language": "python",
   "name": "python3"
  },
  "language_info": {
   "codemirror_mode": {
    "name": "ipython",
    "version": 3
   },
   "file_extension": ".py",
   "mimetype": "text/x-python",
   "name": "python",
   "nbconvert_exporter": "python",
   "pygments_lexer": "ipython3",
   "version": "3.10.9"
  }
 },
 "nbformat": 4,
 "nbformat_minor": 5
}
